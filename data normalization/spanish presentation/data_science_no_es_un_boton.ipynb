{
 "cells": [
  {
   "cell_type": "markdown",
   "metadata": {
    "slideshow": {
     "slide_type": "slide"
    }
   },
   "source": [
    "## 'Data Science' no es un botón (por ahora) \n",
    "### Ejemplos usando normalizaciones"
   ]
  },
  {
   "cell_type": "markdown",
   "metadata": {
    "slideshow": {
     "slide_type": "subslide"
    }
   },
   "source": [
    "En Data Science, existen varios pasos a seguir para realizar un modelo:\n",
    "   \n",
    "* Definir el problema\n",
    "* Preparar los datos\n",
    "* Elegir algoritmos\n",
    "* Modelar\n",
    "* Presentar resultados\n"
   ]
  },
  {
   "cell_type": "markdown",
   "metadata": {
    "slideshow": {
     "slide_type": "subslide"
    }
   },
   "source": [
    "* Definir el problema\n",
    "  * Análisis exploratorio de datos\n",
    "  * Calidad de los datos\n",
    "* Preparar los datos\n",
    "  * Selección de variables\n",
    "  * Reducción de dimensionalidad\n",
    "  * Normalización\n",
    "* Elegir algoritmos\n",
    "  * Supervisado o no supervisado\n",
    "  * Tunear Parámetros\n",
    "* Modelar\n",
    "  * Entrenar\n",
    "  * Evaluar\n",
    "* Presentar resultados\n",
    "\n"
   ]
  },
  {
   "cell_type": "markdown",
   "metadata": {
    "slideshow": {
     "slide_type": "subslide"
    }
   },
   "source": [
    "## Visión no técnica de Data Science\n",
    "    "
   ]
  },
  {
   "cell_type": "markdown",
   "metadata": {
    "slideshow": {
     "slide_type": "subslide"
    }
   },
   "source": [
    "<img src=\"imagenes/no_tecnica_0.png\">\n"
   ]
  },
  {
   "cell_type": "markdown",
   "metadata": {
    "slideshow": {
     "slide_type": "subslide"
    }
   },
   "source": [
    "<img src=\"imagenes/no_tecnica_1.png\">\n"
   ]
  },
  {
   "cell_type": "markdown",
   "metadata": {
    "slideshow": {
     "slide_type": "subslide"
    }
   },
   "source": [
    "<img src=\"imagenes/no_tecnica_2.png\">\n"
   ]
  },
  {
   "cell_type": "markdown",
   "metadata": {
    "slideshow": {
     "slide_type": "subslide"
    }
   },
   "source": [
    "<img src=\"imagenes/no_tecnica_3.png\">\n"
   ]
  },
  {
   "cell_type": "markdown",
   "metadata": {
    "slideshow": {
     "slide_type": "subslide"
    }
   },
   "source": [
    "<img src=\"imagenes/no_tecnica_4.png\">\n"
   ]
  },
  {
   "cell_type": "markdown",
   "metadata": {
    "slideshow": {
     "slide_type": "subslide"
    }
   },
   "source": [
    "<img src=\"imagenes/no_tecnica_5.png\">\n"
   ]
  },
  {
   "cell_type": "markdown",
   "metadata": {
    "slideshow": {
     "slide_type": "subslide"
    }
   },
   "source": [
    "Culpa de las GUIs: Azure, Dataiku, etc\n",
    "\n",
    "<img src=\"imagenes/azure2.png\">\n"
   ]
  },
  {
   "cell_type": "markdown",
   "metadata": {
    "slideshow": {
     "slide_type": "slide"
    }
   },
   "source": [
    "## El botón de normalizar: cómo hacerlo bien (o al menos no hacerlo muy mal)"
   ]
  },
  {
   "cell_type": "markdown",
   "metadata": {
    "slideshow": {
     "slide_type": "subslide"
    }
   },
   "source": [
    "Normalizar en data science significa tranformar las variables para que tengan una escala concreta"
   ]
  },
  {
   "cell_type": "markdown",
   "metadata": {
    "slideshow": {
     "slide_type": "subslide"
    }
   },
   "source": [
    "Es muy importante normalizar antes de usar un modelo de machine learning.\n",
    "\n",
    "Muchos algoritmos asignan pesos a variables en función de su valor numérico. \n",
    "\n",
    "Ejemplo: si una variable de longitud se mide en milímetros (números muy grandes) tendría más peso que medida en kilómetros (números más pequeños).\n"
   ]
  },
  {
   "cell_type": "markdown",
   "metadata": {
    "slideshow": {
     "slide_type": "fragment"
    }
   },
   "source": [
    "## ESTO ES UN PROBLEMA"
   ]
  },
  {
   "cell_type": "markdown",
   "metadata": {
    "slideshow": {
     "slide_type": "fragment"
    }
   },
   "source": [
    "## EN SERIO"
   ]
  },
  {
   "cell_type": "markdown",
   "metadata": {
    "slideshow": {
     "slide_type": "subslide"
    }
   },
   "source": [
    "Existen muchas formas de normalizar variables y no todas valen para todo\n",
    "\n",
    "<img src=\"imagenes/screwdriver.jpg\">\n"
   ]
  },
  {
   "cell_type": "markdown",
   "metadata": {
    "slideshow": {
     "slide_type": "slide"
    }
   },
   "source": [
    "## Formas de normalizar"
   ]
  },
  {
   "cell_type": "markdown",
   "metadata": {
    "slideshow": {
     "slide_type": "slide"
    }
   },
   "source": [
    "### Feature scaling\n",
    "\n",
    "La variable se normaliza entre sus límites empíricos\n",
    "\n",
    "\\begin{equation}\n",
    "X_{normalized} = \\frac{X - X_{min}}{X_{max} - X_{min}}\n",
    "\\end{equation}\n"
   ]
  },
  {
   "cell_type": "markdown",
   "metadata": {
    "slideshow": {
     "slide_type": "fragment"
    }
   },
   "source": [
    "**Al normalizar entre los límites empíricos (máximo y mínimo de la variable), el ruido puede verse amplificado.**\n",
    "\n",
    "\n"
   ]
  },
  {
   "cell_type": "markdown",
   "metadata": {
    "slideshow": {
     "slide_type": "subslide"
    }
   },
   "source": [
    "#### Ejemplo\n",
    "\n",
    "Imagina que mides el ancho de banda de una casa con fibra óptica de 30Mb durante 50 días.\n",
    "\n",
    "\n",
    "----------------------------------------------------------------------------------\n",
    "\n",
    "\n",
    "<img src=\"imagenes/telefonica.jpg\" align=\"left\" style=\"width: 200px;\">\n"
   ]
  },
  {
   "cell_type": "code",
   "execution_count": 1,
   "metadata": {
    "collapsed": false,
    "slideshow": {
     "slide_type": "subslide"
    }
   },
   "outputs": [
    {
     "data": {
      "text/plain": [
       "(0, 50)"
      ]
     },
     "execution_count": 1,
     "metadata": {},
     "output_type": "execute_result"
    },
    {
     "data": {
      "image/png": "[encoded data removed]",
      "text/plain": [
       "<matplotlib.figure.Figure at 0x7fdcdc576048>"
      ]
     },
     "metadata": {},
     "output_type": "display_data"
    }
   ],
   "source": [
    "%matplotlib inline\n",
    "import numpy as np\n",
    "import matplotlib.pyplot as plt\n",
    "\n",
    "#initialize the seed\n",
    "np.random.seed(314)\n",
    "\n",
    "# generate 50 numbers between 0 and 30\n",
    "datasetFlat = np.random.rand(50) + 30\n",
    "\n",
    "#plot them\n",
    "x = np.linspace(0, len(datasetFlat))\n",
    "plt.plot(x, datasetFlat, '-', linewidth=2)\n",
    "\n",
    "#force limits on the figure\n",
    "axes = plt.gca()\n",
    "axes.set_ylim([0,50])"
   ]
  },
  {
   "cell_type": "markdown",
   "metadata": {
    "slideshow": {
     "slide_type": "subslide"
    }
   },
   "source": [
    "Parece bastante estable no? Normalizemos usando feature scaling..."
   ]
  },
  {
   "cell_type": "code",
   "execution_count": 2,
   "metadata": {
    "collapsed": false,
    "slideshow": {
     "slide_type": "subslide"
    }
   },
   "outputs": [
    {
     "data": {
      "text/plain": [
       "[<matplotlib.lines.Line2D at 0x7fdc8cae6550>]"
      ]
     },
     "execution_count": 2,
     "metadata": {},
     "output_type": "execute_result"
    },
    {
     "data": {
      "image/png": "[encoded data removed]",
      "text/plain": [
       "<matplotlib.figure.Figure at 0x7fdca79577b8>"
      ]
     },
     "metadata": {},
     "output_type": "display_data"
    }
   ],
   "source": [
    "from sklearn.preprocessing import MinMaxScaler\n",
    "#create scaler\n",
    "scaler = MinMaxScaler()\n",
    "\n",
    "#apply scaler\n",
    "datasetFlatScaled = scaler.fit_transform(datasetFlat.reshape(-1,1))\n",
    "\n",
    "#plot scaled data\n",
    "plt.plot(x, datasetFlatScaled, '-', linewidth=2, color=\"orange\")"
   ]
  },
  {
   "cell_type": "markdown",
   "metadata": {
    "slideshow": {
     "slide_type": "fragment"
    }
   },
   "source": [
    "Ahora parece una conexión con mucha variación en el servicio. El modelo que use esta variable no funcionará"
   ]
  },
  {
   "cell_type": "markdown",
   "metadata": {
    "slideshow": {
     "slide_type": "subslide"
    }
   },
   "source": [
    "**Before**\n",
    "\n",
    "<img src=\"imagenes/before.jpg\" style=\"width: 400px;\">\n",
    "\n",
    "\n",
    "**After**\n",
    "\n",
    "<img src=\"imagenes/after.jpg\" style=\"width: 400px;\">\n"
   ]
  },
  {
   "cell_type": "markdown",
   "metadata": {
    "collapsed": false,
    "slideshow": {
     "slide_type": "slide"
    }
   },
   "source": [
    "Ok, nuevo intento\n",
    "\n",
    "### Standard scaler\n",
    "\n",
    "\\begin{equation}\n",
    "X_{normalized} =  \\frac{X - X_{mean}}{X_{std dev}}\n",
    "\\end{equation}\n",
    "\n",
    "Podría funcionar para el caso anterior, pero la media y la desviación típica son muy sensibles a outliers"
   ]
  },
  {
   "cell_type": "markdown",
   "metadata": {
    "slideshow": {
     "slide_type": "subslide"
    }
   },
   "source": [
    "#### Ejemplo 2\n",
    "\n",
    "La siguiente gráfica representa la frecuencia de uso de una determinada palabra en posts de Facebook\n",
    "\n",
    "----------------------------------------------------------------------------------\n",
    "\n",
    "<img src=\"imagenes/facebook.png\" align=\"left\" style=\"width: 150px;\">\n"
   ]
  },
  {
   "cell_type": "markdown",
   "metadata": {
    "slideshow": {
     "slide_type": "subslide"
    }
   },
   "source": [
    "<img src=\"imagenes/facebook_0.png\">\n"
   ]
  },
  {
   "cell_type": "markdown",
   "metadata": {
    "slideshow": {
     "slide_type": "subslide"
    }
   },
   "source": [
    "<img src=\"imagenes/facebook_1.png\">\n"
   ]
  },
  {
   "cell_type": "markdown",
   "metadata": {
    "collapsed": true,
    "slideshow": {
     "slide_type": "subslide"
    }
   },
   "source": [
    "La frecuencia baja entre semana y tiene picos los fines de semana. Picos grandes en fiestas importantes\n",
    "\n",
    "\n",
    "----------------------------------------------------------------------------------\n",
    "\n",
    "<img src=\"imagenes/facebook.png\" align=\"left\" style=\"width: 150px;\"> \n",
    "<img src=\"imagenes/jb.jpg\" align=\"left\" style=\"width: 150px;\"> "
   ]
  },
  {
   "cell_type": "code",
   "execution_count": 3,
   "metadata": {
    "collapsed": false,
    "slideshow": {
     "slide_type": "subslide"
    }
   },
   "outputs": [
    {
     "data": {
      "text/plain": [
       "[<matplotlib.lines.Line2D at 0x7fdc8cad4898>]"
      ]
     },
     "execution_count": 3,
     "metadata": {},
     "output_type": "execute_result"
    },
    {
     "data": {
      "image/png": "[encoded data removed]",
      "text/plain": [
       "<matplotlib.figure.Figure at 0x7fdc8cb04a58>"
      ]
     },
     "metadata": {},
     "output_type": "display_data"
    }
   ],
   "source": [
    "#generate sine wave with outliers\n",
    "datasetSinOutlier = np.sin(range(0,10)).tolist() + \\\n",
    "                    [35] +  \\\n",
    "                    np.sin(range(11,20)).tolist() + \\\n",
    "                    [32]  +  \\\n",
    "                    np.sin(range(21,30)).tolist() + \\\n",
    "                    [60]  +  \\\n",
    "                    np.sin(range(31,50)).tolist() \n",
    "\n",
    "                \n",
    "datasetSinOutlier = [i+3 for i in datasetSinOutlier]\n",
    "                    \n",
    "#this it used only to plot\n",
    "x = np.linspace(0, len(datasetSinOutlier))\n",
    "\n",
    "#plot\n",
    "plt.plot(x, datasetSinOutlier, '-', linewidth=2)"
   ]
  },
  {
   "cell_type": "markdown",
   "metadata": {
    "slideshow": {
     "slide_type": "subslide"
    }
   },
   "source": [
    "De cara a realizar un análisis, nos gustaría poder distinguir bien entre fines de semana y días laborables. Normalizemos usando Standard Scaler"
   ]
  },
  {
   "cell_type": "code",
   "execution_count": 4,
   "metadata": {
    "collapsed": false,
    "slideshow": {
     "slide_type": "subslide"
    }
   },
   "outputs": [
    {
     "data": {
      "text/plain": [
       "[<matplotlib.lines.Line2D at 0x7fdc8ca372b0>]"
      ]
     },
     "execution_count": 4,
     "metadata": {},
     "output_type": "execute_result"
    },
    {
     "data": {
      "image/png": "[encoded data removed]",
      "text/plain": [
       "<matplotlib.figure.Figure at 0x7fdca79579b0>"
      ]
     },
     "metadata": {},
     "output_type": "display_data"
    }
   ],
   "source": [
    "from sklearn.preprocessing import StandardScaler\n",
    "#create scaler\n",
    "scaler = StandardScaler()\n",
    "\n",
    "#apply scaler\n",
    "datasetSinOutlierScaled = scaler.fit_transform(np.array(datasetSinOutlier).reshape(-1,1))\n",
    "\n",
    "#plot scaled data\n",
    "plt.plot(x, datasetSinOutlierScaled, '-', linewidth=2, color=\"orange\")"
   ]
  },
  {
   "cell_type": "markdown",
   "metadata": {
    "slideshow": {
     "slide_type": "subslide"
    }
   },
   "source": [
    "Resumen del destrozo:\n",
    "* No ha conseguido dejar los datos entre 0 y 1 (situación ideal)\n",
    "* No se distinguen los laborables de los festivos, ya que los outliers enmascaran el resto de datos\n",
    "* Ha introducido números negativos donde antes no los había"
   ]
  },
  {
   "cell_type": "markdown",
   "metadata": {
    "slideshow": {
     "slide_type": "subslide"
    }
   },
   "source": [
    "## Error 404: Data Scientist not found"
   ]
  },
  {
   "cell_type": "markdown",
   "metadata": {
    "slideshow": {
     "slide_type": "slide"
    }
   },
   "source": [
    "<img src=\"imagenes/time.gif\"> \n",
    "\n",
    "\n",
    "Más en: [github/smorante](https://github.com/smorante/machine-learning-knowledge-pills/blob/master/data%20normalization/warnings%20about%20normalizing%20data.ipynb)"
   ]
  },
  {
   "cell_type": "markdown",
   "metadata": {
    "slideshow": {
     "slide_type": "slide"
    }
   },
   "source": [
    "### Consejos finales\n",
    "\n",
    "* ** Estudia los datos **\n",
    "\n",
    "* ** No ignores a los outliers, piensa qué hacer con ellos antes de normalizar**\n"
   ]
  },
  {
   "cell_type": "markdown",
   "metadata": {
    "slideshow": {
     "slide_type": "subslide"
    }
   },
   "source": [
    "## Data Science no es un botón (Machine Learning tampoco)\n",
    "\n",
    "<img src=\"imagenes/oprah.gif\"> \n",
    "\n"
   ]
  },
  {
   "cell_type": "markdown",
   "metadata": {
    "slideshow": {
     "slide_type": "subslide"
    }
   },
   "source": [
    "## Saber éstas de cosas es por lo que los Data Scientist están tan valorados\n",
    "\n",
    "\n",
    "<img src=\"imagenes/bb.jpg\"> \n"
   ]
  },
  {
   "cell_type": "markdown",
   "metadata": {
    "slideshow": {
     "slide_type": "slide"
    }
   },
   "source": [
    "\n",
    "<img src=\"imagenes/fry.gif\"> \n",
    "\n",
    "\n",
    "Santiago Morante, PhD <br>\n",
    "Data Scientist"
   ]
  }
 ],
 "metadata": {
  "celltoolbar": "Slideshow",
  "kernelspec": {
   "display_name": "Python 3",
   "language": "python",
   "name": "python3"
  },
  "language_info": {
   "codemirror_mode": {
    "name": "ipython",
    "version": 3
   },
   "file_extension": ".py",
   "mimetype": "text/x-python",
   "name": "python",
   "nbconvert_exporter": "python",
   "pygments_lexer": "ipython3",
   "version": "3.5.2+"
  }
 },
 "nbformat": 4,
 "nbformat_minor": 0
}
